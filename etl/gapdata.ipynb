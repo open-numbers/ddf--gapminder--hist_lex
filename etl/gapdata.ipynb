{
 "cells": [
  {
   "cell_type": "code",
   "execution_count": 1,
   "metadata": {
    "collapsed": false
   },
   "outputs": [
    {
     "name": "stderr",
     "output_type": "stream",
     "text": [
      "/usr/local/lib/python3.5/site-packages/matplotlib/__init__.py:872: UserWarning: axes.color_cycle is deprecated and replaced with axes.prop_cycle; please use the latter.\n",
      "  warnings.warn(self.msg_depr % (key, alt_key))\n"
     ]
    }
   ],
   "source": [
    "import pandas as pd\n",
    "import numpy as np\n",
    "import xlrd\n",
    "import os\n",
    "import re\n",
    "from ddf_utils.str import to_concept_id\n",
    "from ddf_utils.index import create_index_file"
   ]
  },
  {
   "cell_type": "code",
   "execution_count": 2,
   "metadata": {
    "collapsed": true
   },
   "outputs": [],
   "source": [
    "pd.set_option('max_row', 20)"
   ]
  },
  {
   "cell_type": "markdown",
   "metadata": {},
   "source": [
    "* Gapminder Documentation 001 – GDP per Capita by Purchasing Power Parities\n",
    "* Gapminder Documentation 002 – Infant Mortality Rate\n",
    "* Gapminder Documentation 003 – Total Population\n",
    "* Gapminder Documentation 004 – Life Expectancy at Birth\n",
    "* Gapminder Documentation 005 – Under-five mortality rate\n",
    "* Gapminder Documentation 007 – GDP per capita by PPP for sub-national units\n",
    "* Gapminder Documentation 008 – Children per woman (total fertility)"
   ]
  },
  {
   "cell_type": "code",
   "execution_count": 4,
   "metadata": {
    "collapsed": false
   },
   "outputs": [
    {
     "data": {
      "text/plain": [
       "['About', 'Data & meta data', 'List of sources and references', 'Instructions']"
      ]
     },
     "execution_count": 4,
     "metadata": {},
     "output_type": "execute_result"
    }
   ],
   "source": [
    "xlrd.open_workbook('source/gapdata004 v7.xlsx').sheet_names()"
   ]
  },
  {
   "cell_type": "code",
   "execution_count": 3,
   "metadata": {
    "collapsed": false
   },
   "outputs": [],
   "source": [
    "data001 = pd.read_excel('source/gapdata004 v7.xlsx', sheetname='Data & meta data')"
   ]
  },
  {
   "cell_type": "code",
   "execution_count": 4,
   "metadata": {
    "collapsed": false,
    "scrolled": false
   },
   "outputs": [
    {
     "data": {
      "text/html": [
       "<div>\n",
       "<table border=\"1\" class=\"dataframe\">\n",
       "  <thead>\n",
       "    <tr style=\"text-align: right;\">\n",
       "      <th></th>\n",
       "      <th>Area</th>\n",
       "      <th>Year</th>\n",
       "      <th>Life expectancy at birth</th>\n",
       "      <th>Life expectancy, with interpolations</th>\n",
       "      <th>Data quality</th>\n",
       "      <th>Events 1</th>\n",
       "      <th>Events 1 Wikipedia link</th>\n",
       "      <th>Events 2</th>\n",
       "      <th>Events 2 Wikipedia link</th>\n",
       "      <th>Source</th>\n",
       "      <th>...</th>\n",
       "      <th>Note on the timing of health transition</th>\n",
       "      <th>Other notes</th>\n",
       "      <th>Source II (where our source found their estimate)</th>\n",
       "      <th>Alternative data</th>\n",
       "      <th>For disasters: CDR or excess CDR</th>\n",
       "      <th>For disasters: duration</th>\n",
       "      <th>CDR coefficient</th>\n",
       "      <th>For disasters: Source of (excess) CDR</th>\n",
       "      <th>For disasters: Notes on excess CDR</th>\n",
       "      <th>Further research needed</th>\n",
       "    </tr>\n",
       "  </thead>\n",
       "  <tbody>\n",
       "    <tr>\n",
       "      <th>0</th>\n",
       "      <td>Afghanistan</td>\n",
       "      <td>1800</td>\n",
       "      <td>28.211</td>\n",
       "      <td>28.211000</td>\n",
       "      <td>4. Trend, guesstimate</td>\n",
       "      <td>NaN</td>\n",
       "      <td>NaN</td>\n",
       "      <td>NaN</td>\n",
       "      <td>NaN</td>\n",
       "      <td>Gapminder model - extrapolation from earliest ...</td>\n",
       "      <td>...</td>\n",
       "      <td>NaN</td>\n",
       "      <td>NaN</td>\n",
       "      <td>NaN</td>\n",
       "      <td>NaN</td>\n",
       "      <td>NaN</td>\n",
       "      <td>NaN</td>\n",
       "      <td>NaN</td>\n",
       "      <td>NaN</td>\n",
       "      <td>NaN</td>\n",
       "      <td>NaN</td>\n",
       "    </tr>\n",
       "    <tr>\n",
       "      <th>1</th>\n",
       "      <td>Afghanistan</td>\n",
       "      <td>1801</td>\n",
       "      <td>NaN</td>\n",
       "      <td>28.200753</td>\n",
       "      <td>4. Trend, guesstimate</td>\n",
       "      <td>NaN</td>\n",
       "      <td>NaN</td>\n",
       "      <td>NaN</td>\n",
       "      <td>NaN</td>\n",
       "      <td>Interpolation (automatic)</td>\n",
       "      <td>...</td>\n",
       "      <td>NaN</td>\n",
       "      <td>NaN</td>\n",
       "      <td>NaN</td>\n",
       "      <td>NaN</td>\n",
       "      <td>NaN</td>\n",
       "      <td>NaN</td>\n",
       "      <td>NaN</td>\n",
       "      <td>NaN</td>\n",
       "      <td>NaN</td>\n",
       "      <td>NaN</td>\n",
       "    </tr>\n",
       "    <tr>\n",
       "      <th>2</th>\n",
       "      <td>Afghanistan</td>\n",
       "      <td>1802</td>\n",
       "      <td>NaN</td>\n",
       "      <td>28.190507</td>\n",
       "      <td>4. Trend, guesstimate</td>\n",
       "      <td>NaN</td>\n",
       "      <td>NaN</td>\n",
       "      <td>NaN</td>\n",
       "      <td>NaN</td>\n",
       "      <td>Interpolation (automatic)</td>\n",
       "      <td>...</td>\n",
       "      <td>NaN</td>\n",
       "      <td>NaN</td>\n",
       "      <td>NaN</td>\n",
       "      <td>NaN</td>\n",
       "      <td>NaN</td>\n",
       "      <td>NaN</td>\n",
       "      <td>NaN</td>\n",
       "      <td>NaN</td>\n",
       "      <td>NaN</td>\n",
       "      <td>NaN</td>\n",
       "    </tr>\n",
       "    <tr>\n",
       "      <th>3</th>\n",
       "      <td>Afghanistan</td>\n",
       "      <td>1803</td>\n",
       "      <td>NaN</td>\n",
       "      <td>28.180260</td>\n",
       "      <td>4. Trend, guesstimate</td>\n",
       "      <td>NaN</td>\n",
       "      <td>NaN</td>\n",
       "      <td>NaN</td>\n",
       "      <td>NaN</td>\n",
       "      <td>Interpolation (automatic)</td>\n",
       "      <td>...</td>\n",
       "      <td>NaN</td>\n",
       "      <td>NaN</td>\n",
       "      <td>NaN</td>\n",
       "      <td>NaN</td>\n",
       "      <td>NaN</td>\n",
       "      <td>NaN</td>\n",
       "      <td>NaN</td>\n",
       "      <td>NaN</td>\n",
       "      <td>NaN</td>\n",
       "      <td>NaN</td>\n",
       "    </tr>\n",
       "    <tr>\n",
       "      <th>4</th>\n",
       "      <td>Afghanistan</td>\n",
       "      <td>1804</td>\n",
       "      <td>NaN</td>\n",
       "      <td>28.170013</td>\n",
       "      <td>4. Trend, guesstimate</td>\n",
       "      <td>NaN</td>\n",
       "      <td>NaN</td>\n",
       "      <td>NaN</td>\n",
       "      <td>NaN</td>\n",
       "      <td>Interpolation (automatic)</td>\n",
       "      <td>...</td>\n",
       "      <td>NaN</td>\n",
       "      <td>NaN</td>\n",
       "      <td>NaN</td>\n",
       "      <td>NaN</td>\n",
       "      <td>NaN</td>\n",
       "      <td>NaN</td>\n",
       "      <td>NaN</td>\n",
       "      <td>NaN</td>\n",
       "      <td>NaN</td>\n",
       "      <td>NaN</td>\n",
       "    </tr>\n",
       "  </tbody>\n",
       "</table>\n",
       "<p>5 rows × 21 columns</p>\n",
       "</div>"
      ],
      "text/plain": [
       "          Area  Year  Life expectancy at birth  \\\n",
       "0  Afghanistan  1800                    28.211   \n",
       "1  Afghanistan  1801                       NaN   \n",
       "2  Afghanistan  1802                       NaN   \n",
       "3  Afghanistan  1803                       NaN   \n",
       "4  Afghanistan  1804                       NaN   \n",
       "\n",
       "   Life expectancy, with interpolations           Data quality Events 1  \\\n",
       "0                             28.211000  4. Trend, guesstimate      NaN   \n",
       "1                             28.200753  4. Trend, guesstimate      NaN   \n",
       "2                             28.190507  4. Trend, guesstimate      NaN   \n",
       "3                             28.180260  4. Trend, guesstimate      NaN   \n",
       "4                             28.170013  4. Trend, guesstimate      NaN   \n",
       "\n",
       "  Events 1 Wikipedia link Events 2 Events 2 Wikipedia link  \\\n",
       "0                     NaN      NaN                     NaN   \n",
       "1                     NaN      NaN                     NaN   \n",
       "2                     NaN      NaN                     NaN   \n",
       "3                     NaN      NaN                     NaN   \n",
       "4                     NaN      NaN                     NaN   \n",
       "\n",
       "                                              Source           ...            \\\n",
       "0  Gapminder model - extrapolation from earliest ...           ...             \n",
       "1                          Interpolation (automatic)           ...             \n",
       "2                          Interpolation (automatic)           ...             \n",
       "3                          Interpolation (automatic)           ...             \n",
       "4                          Interpolation (automatic)           ...             \n",
       "\n",
       "  Note on the timing of health transition Other notes  \\\n",
       "0                                     NaN         NaN   \n",
       "1                                     NaN         NaN   \n",
       "2                                     NaN         NaN   \n",
       "3                                     NaN         NaN   \n",
       "4                                     NaN         NaN   \n",
       "\n",
       "  Source II (where our source found their estimate) Alternative data  \\\n",
       "0                                               NaN              NaN   \n",
       "1                                               NaN              NaN   \n",
       "2                                               NaN              NaN   \n",
       "3                                               NaN              NaN   \n",
       "4                                               NaN              NaN   \n",
       "\n",
       "  For disasters: CDR or excess CDR  For disasters: duration CDR coefficient  \\\n",
       "0                              NaN                      NaN             NaN   \n",
       "1                              NaN                      NaN             NaN   \n",
       "2                              NaN                      NaN             NaN   \n",
       "3                              NaN                      NaN             NaN   \n",
       "4                              NaN                      NaN             NaN   \n",
       "\n",
       "  For disasters: Source of (excess) CDR For disasters: Notes on excess CDR  \\\n",
       "0                                   NaN                                NaN   \n",
       "1                                   NaN                                NaN   \n",
       "2                                   NaN                                NaN   \n",
       "3                                   NaN                                NaN   \n",
       "4                                   NaN                                NaN   \n",
       "\n",
       "  Further research needed  \n",
       "0                     NaN  \n",
       "1                     NaN  \n",
       "2                     NaN  \n",
       "3                     NaN  \n",
       "4                     NaN  \n",
       "\n",
       "[5 rows x 21 columns]"
      ]
     },
     "execution_count": 4,
     "metadata": {},
     "output_type": "execute_result"
    }
   ],
   "source": [
    "data001.head()"
   ]
  },
  {
   "cell_type": "code",
   "execution_count": 7,
   "metadata": {
    "collapsed": false
   },
   "outputs": [],
   "source": [
    "area = data001['Area'].unique()"
   ]
  },
  {
   "cell_type": "code",
   "execution_count": 8,
   "metadata": {
    "collapsed": false
   },
   "outputs": [],
   "source": [
    "area_id = list(map(to_concept_id, area))"
   ]
  },
  {
   "cell_type": "code",
   "execution_count": 9,
   "metadata": {
    "collapsed": true
   },
   "outputs": [],
   "source": [
    "ent = pd.DataFrame([], columns=['area', 'name'])"
   ]
  },
  {
   "cell_type": "code",
   "execution_count": 10,
   "metadata": {
    "collapsed": true
   },
   "outputs": [],
   "source": [
    "ent['area'] = area_id\n",
    "ent['name'] = area"
   ]
  },
  {
   "cell_type": "code",
   "execution_count": 11,
   "metadata": {
    "collapsed": true
   },
   "outputs": [],
   "source": [
    "ent.to_csv('../ddf--entities--area.csv', index=False)"
   ]
  },
  {
   "cell_type": "code",
   "execution_count": 13,
   "metadata": {
    "collapsed": true
   },
   "outputs": [],
   "source": [
    "data001_dp_1 = data001[['Area', 'Year', 'Life expectancy at birth']].copy()\n",
    "data001_dp_2 = data001[['Area', 'Year', 'Life expectancy, with interpolations']].copy()"
   ]
  },
  {
   "cell_type": "code",
   "execution_count": 16,
   "metadata": {
    "collapsed": false
   },
   "outputs": [
    {
     "data": {
      "text/plain": [
       "'life_expectancy_at_birth'"
      ]
     },
     "execution_count": 16,
     "metadata": {},
     "output_type": "execute_result"
    }
   ],
   "source": [
    "to_concept_id('Life expectancy at birth')"
   ]
  },
  {
   "cell_type": "code",
   "execution_count": 17,
   "metadata": {
    "collapsed": true
   },
   "outputs": [],
   "source": [
    "data001_dp_1.columns = ['area', 'year', 'life_expectancy_at_birth']\n",
    "data001_dp_2.columns = ['area', 'year', 'life_expectancy_with_interpolations']"
   ]
  },
  {
   "cell_type": "code",
   "execution_count": 18,
   "metadata": {
    "collapsed": false
   },
   "outputs": [],
   "source": [
    "data001_dp_1['area'] = data001_dp_1['area'].map(to_concept_id)\n",
    "data001_dp_2['area'] = data001_dp_2['area'].map(to_concept_id)"
   ]
  },
  {
   "cell_type": "code",
   "execution_count": 21,
   "metadata": {
    "collapsed": false
   },
   "outputs": [],
   "source": [
    "data001_dp_1.dropna().sort_values(by=['area', 'year']).to_csv('../ddf--datapoints--life_expectancy_at_birth--by--area--year.csv', index=False)"
   ]
  },
  {
   "cell_type": "code",
   "execution_count": 22,
   "metadata": {
    "collapsed": true
   },
   "outputs": [],
   "source": [
    "data001_dp_2.dropna().sort_values(by=['area', 'year']).to_csv('../ddf--datapoints--life_expectancy_with_interpolations--by--area--year.csv', index=False)"
   ]
  },
  {
   "cell_type": "code",
   "execution_count": 23,
   "metadata": {
    "collapsed": true
   },
   "outputs": [],
   "source": [
    "conc = ['life_expectancy_at_birth', 'life_expectancy_with_interpolations', 'area', 'year', 'name']\n"
   ]
  },
  {
   "cell_type": "code",
   "execution_count": 24,
   "metadata": {
    "collapsed": true
   },
   "outputs": [],
   "source": [
    "cdf = pd.DataFrame([], columns=['concept', 'name', 'concept_type'])"
   ]
  },
  {
   "cell_type": "code",
   "execution_count": 25,
   "metadata": {
    "collapsed": false
   },
   "outputs": [],
   "source": [
    "cdf['concept'] = conc\n",
    "cdf['name'] = ['Life expectancy at birth', 'Life expectancy, with interpolations', 'Area', 'Year', 'Name']\n",
    "cdf['concept_type'] = ['measure', 'measure', 'entity_domain', 'time', 'string']"
   ]
  },
  {
   "cell_type": "code",
   "execution_count": 26,
   "metadata": {
    "collapsed": true
   },
   "outputs": [],
   "source": [
    "cdf.to_csv('../ddf--concepts.csv', index=False)"
   ]
  },
  {
   "cell_type": "code",
   "execution_count": null,
   "metadata": {
    "collapsed": true
   },
   "outputs": [],
   "source": []
  },
  {
   "cell_type": "code",
   "execution_count": 27,
   "metadata": {
    "collapsed": false
   },
   "outputs": [
    {
     "data": {
      "text/html": [
       "<div>\n",
       "<table border=\"1\" class=\"dataframe\">\n",
       "  <thead>\n",
       "    <tr style=\"text-align: right;\">\n",
       "      <th></th>\n",
       "      <th>key</th>\n",
       "      <th>value</th>\n",
       "      <th>file</th>\n",
       "    </tr>\n",
       "  </thead>\n",
       "  <tbody>\n",
       "    <tr>\n",
       "      <th>0</th>\n",
       "      <td>concept</td>\n",
       "      <td>name</td>\n",
       "      <td>ddf--concepts.csv</td>\n",
       "    </tr>\n",
       "    <tr>\n",
       "      <th>1</th>\n",
       "      <td>concept</td>\n",
       "      <td>concept_type</td>\n",
       "      <td>ddf--concepts.csv</td>\n",
       "    </tr>\n",
       "    <tr>\n",
       "      <th>0</th>\n",
       "      <td>area,year</td>\n",
       "      <td>life_expectancy_at_birth</td>\n",
       "      <td>ddf--datapoints--life_expectancy_at_birth--by-...</td>\n",
       "    </tr>\n",
       "    <tr>\n",
       "      <th>0</th>\n",
       "      <td>area,year</td>\n",
       "      <td>life_expectancy_with_interpolations</td>\n",
       "      <td>ddf--datapoints--life_expectancy_with_interpol...</td>\n",
       "    </tr>\n",
       "    <tr>\n",
       "      <th>0</th>\n",
       "      <td>area</td>\n",
       "      <td>name</td>\n",
       "      <td>ddf--entities--area.csv</td>\n",
       "    </tr>\n",
       "  </tbody>\n",
       "</table>\n",
       "</div>"
      ],
      "text/plain": [
       "         key                                value  \\\n",
       "0    concept                                 name   \n",
       "1    concept                         concept_type   \n",
       "0  area,year             life_expectancy_at_birth   \n",
       "0  area,year  life_expectancy_with_interpolations   \n",
       "0       area                                 name   \n",
       "\n",
       "                                                file  \n",
       "0                                  ddf--concepts.csv  \n",
       "1                                  ddf--concepts.csv  \n",
       "0  ddf--datapoints--life_expectancy_at_birth--by-...  \n",
       "0  ddf--datapoints--life_expectancy_with_interpol...  \n",
       "0                            ddf--entities--area.csv  "
      ]
     },
     "execution_count": 27,
     "metadata": {},
     "output_type": "execute_result"
    }
   ],
   "source": [
    "create_index_file('../')"
   ]
  },
  {
   "cell_type": "code",
   "execution_count": null,
   "metadata": {
    "collapsed": true
   },
   "outputs": [],
   "source": []
  },
  {
   "cell_type": "code",
   "execution_count": 6,
   "metadata": {
    "collapsed": false
   },
   "outputs": [
    {
     "data": {
      "text/plain": [
       "array(['4. Trend, guesstimate', '3. Yearly, guesstimate', '2. Trend, data',\n",
       "       '1. Yearly, data'], dtype=object)"
      ]
     },
     "execution_count": 6,
     "metadata": {},
     "output_type": "execute_result"
    }
   ],
   "source": [
    "data001['Data quality'].dropna().unique()"
   ]
  },
  {
   "cell_type": "code",
   "execution_count": null,
   "metadata": {
    "collapsed": true
   },
   "outputs": [],
   "source": []
  },
  {
   "cell_type": "code",
   "execution_count": 7,
   "metadata": {
    "collapsed": true
   },
   "outputs": [],
   "source": [
    "import ddf_utils.ddf_reader as ddf\n",
    "\n",
    "ddf.SEARCH_PATH = '/Users/semio/src/work/Gapminder/'"
   ]
  },
  {
   "cell_type": "code",
   "execution_count": 13,
   "metadata": {
    "collapsed": false
   },
   "outputs": [],
   "source": [
    "a0 = (ddf.ddf_datapoint('ddf--gapminder--gapminder_world', 'data_quality_life_expectancy')\n",
    " .query(\"geo == 'afg'\")\n",
    ")"
   ]
  },
  {
   "cell_type": "code",
   "execution_count": 15,
   "metadata": {
    "collapsed": false
   },
   "outputs": [
    {
     "data": {
      "text/html": [
       "<div>\n",
       "<table border=\"1\" class=\"dataframe\">\n",
       "  <thead>\n",
       "    <tr style=\"text-align: right;\">\n",
       "      <th></th>\n",
       "      <th>geo</th>\n",
       "      <th>data_quality_life_expectancy</th>\n",
       "      <th>time</th>\n",
       "    </tr>\n",
       "  </thead>\n",
       "  <tbody>\n",
       "    <tr>\n",
       "      <th>0</th>\n",
       "      <td>afg</td>\n",
       "      <td>4</td>\n",
       "      <td>1800</td>\n",
       "    </tr>\n",
       "    <tr>\n",
       "      <th>1</th>\n",
       "      <td>afg</td>\n",
       "      <td>4</td>\n",
       "      <td>1801</td>\n",
       "    </tr>\n",
       "    <tr>\n",
       "      <th>2</th>\n",
       "      <td>afg</td>\n",
       "      <td>4</td>\n",
       "      <td>1802</td>\n",
       "    </tr>\n",
       "    <tr>\n",
       "      <th>3</th>\n",
       "      <td>afg</td>\n",
       "      <td>4</td>\n",
       "      <td>1803</td>\n",
       "    </tr>\n",
       "    <tr>\n",
       "      <th>4</th>\n",
       "      <td>afg</td>\n",
       "      <td>4</td>\n",
       "      <td>1804</td>\n",
       "    </tr>\n",
       "    <tr>\n",
       "      <th>5</th>\n",
       "      <td>afg</td>\n",
       "      <td>4</td>\n",
       "      <td>1805</td>\n",
       "    </tr>\n",
       "    <tr>\n",
       "      <th>6</th>\n",
       "      <td>afg</td>\n",
       "      <td>4</td>\n",
       "      <td>1806</td>\n",
       "    </tr>\n",
       "    <tr>\n",
       "      <th>7</th>\n",
       "      <td>afg</td>\n",
       "      <td>4</td>\n",
       "      <td>1807</td>\n",
       "    </tr>\n",
       "    <tr>\n",
       "      <th>8</th>\n",
       "      <td>afg</td>\n",
       "      <td>4</td>\n",
       "      <td>1808</td>\n",
       "    </tr>\n",
       "    <tr>\n",
       "      <th>9</th>\n",
       "      <td>afg</td>\n",
       "      <td>4</td>\n",
       "      <td>1809</td>\n",
       "    </tr>\n",
       "    <tr>\n",
       "      <th>...</th>\n",
       "      <td>...</td>\n",
       "      <td>...</td>\n",
       "      <td>...</td>\n",
       "    </tr>\n",
       "    <tr>\n",
       "      <th>205</th>\n",
       "      <td>afg</td>\n",
       "      <td>2</td>\n",
       "      <td>2005</td>\n",
       "    </tr>\n",
       "    <tr>\n",
       "      <th>206</th>\n",
       "      <td>afg</td>\n",
       "      <td>2</td>\n",
       "      <td>2006</td>\n",
       "    </tr>\n",
       "    <tr>\n",
       "      <th>207</th>\n",
       "      <td>afg</td>\n",
       "      <td>2</td>\n",
       "      <td>2007</td>\n",
       "    </tr>\n",
       "    <tr>\n",
       "      <th>208</th>\n",
       "      <td>afg</td>\n",
       "      <td>2</td>\n",
       "      <td>2008</td>\n",
       "    </tr>\n",
       "    <tr>\n",
       "      <th>209</th>\n",
       "      <td>afg</td>\n",
       "      <td>2</td>\n",
       "      <td>2009</td>\n",
       "    </tr>\n",
       "    <tr>\n",
       "      <th>210</th>\n",
       "      <td>afg</td>\n",
       "      <td>2</td>\n",
       "      <td>2010</td>\n",
       "    </tr>\n",
       "    <tr>\n",
       "      <th>211</th>\n",
       "      <td>afg</td>\n",
       "      <td>2</td>\n",
       "      <td>2011</td>\n",
       "    </tr>\n",
       "    <tr>\n",
       "      <th>212</th>\n",
       "      <td>afg</td>\n",
       "      <td>2</td>\n",
       "      <td>2012</td>\n",
       "    </tr>\n",
       "    <tr>\n",
       "      <th>213</th>\n",
       "      <td>afg</td>\n",
       "      <td>4</td>\n",
       "      <td>2013</td>\n",
       "    </tr>\n",
       "    <tr>\n",
       "      <th>214</th>\n",
       "      <td>afg</td>\n",
       "      <td>4</td>\n",
       "      <td>2014</td>\n",
       "    </tr>\n",
       "  </tbody>\n",
       "</table>\n",
       "<p>215 rows × 3 columns</p>\n",
       "</div>"
      ],
      "text/plain": [
       "     geo  data_quality_life_expectancy  time\n",
       "0    afg                             4  1800\n",
       "1    afg                             4  1801\n",
       "2    afg                             4  1802\n",
       "3    afg                             4  1803\n",
       "4    afg                             4  1804\n",
       "5    afg                             4  1805\n",
       "6    afg                             4  1806\n",
       "7    afg                             4  1807\n",
       "8    afg                             4  1808\n",
       "9    afg                             4  1809\n",
       "..   ...                           ...   ...\n",
       "205  afg                             2  2005\n",
       "206  afg                             2  2006\n",
       "207  afg                             2  2007\n",
       "208  afg                             2  2008\n",
       "209  afg                             2  2009\n",
       "210  afg                             2  2010\n",
       "211  afg                             2  2011\n",
       "212  afg                             2  2012\n",
       "213  afg                             4  2013\n",
       "214  afg                             4  2014\n",
       "\n",
       "[215 rows x 3 columns]"
      ]
     },
     "execution_count": 15,
     "metadata": {},
     "output_type": "execute_result"
    }
   ],
   "source": [
    "a0"
   ]
  },
  {
   "cell_type": "code",
   "execution_count": 14,
   "metadata": {
    "collapsed": false
   },
   "outputs": [],
   "source": [
    "a = (ddf.ddf_datapoint('ddf--g-hist_lex', 'data_quality')\n",
    " .query(\"area == 'afghanistan' & year < 2015\")\n",
    ")"
   ]
  },
  {
   "cell_type": "code",
   "execution_count": 18,
   "metadata": {
    "collapsed": false
   },
   "outputs": [
    {
     "data": {
      "text/plain": [
       "True"
      ]
     },
     "execution_count": 18,
     "metadata": {},
     "output_type": "execute_result"
    }
   ],
   "source": [
    "np.all(a['data_quality'] == a0['data_quality_life_expectancy'])"
   ]
  },
  {
   "cell_type": "code",
   "execution_count": null,
   "metadata": {
    "collapsed": true
   },
   "outputs": [],
   "source": []
  },
  {
   "cell_type": "code",
   "execution_count": null,
   "metadata": {
    "collapsed": true
   },
   "outputs": [],
   "source": []
  },
  {
   "cell_type": "code",
   "execution_count": null,
   "metadata": {
    "collapsed": true
   },
   "outputs": [],
   "source": []
  }
 ],
 "metadata": {
  "kernelspec": {
   "display_name": "Python 3",
   "language": "python",
   "name": "python3"
  },
  "language_info": {
   "codemirror_mode": {
    "name": "ipython",
    "version": 3
   },
   "file_extension": ".py",
   "mimetype": "text/x-python",
   "name": "python",
   "nbconvert_exporter": "python",
   "pygments_lexer": "ipython3",
   "version": "3.5.1"
  }
 },
 "nbformat": 4,
 "nbformat_minor": 0
}
